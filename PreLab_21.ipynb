{
  "nbformat": 4,
  "nbformat_minor": 0,
  "metadata": {
    "colab": {
      "provenance": [],
      "include_colab_link": true
    },
    "kernelspec": {
      "name": "python3",
      "display_name": "Python 3"
    }
  },
  "cells": [
    {
      "cell_type": "markdown",
      "metadata": {
        "id": "view-in-github",
        "colab_type": "text"
      },
      "source": [
        "<a href=\"https://colab.research.google.com/github/heidilyu/Advanced-Calculus-/blob/main/PreLab_21.ipynb\" target=\"_parent\"><img src=\"https://colab.research.google.com/assets/colab-badge.svg\" alt=\"Open In Colab\"/></a>"
      ]
    },
    {
      "cell_type": "markdown",
      "metadata": {
        "id": "v4mAQivLHLuU"
      },
      "source": [
        "# Pre-Lab 2.1\n",
        "\n",
        "Goals:\n",
        "\n",
        "* Use arrays to streamline calculations.\n",
        "* Use `for` loops to automate repetitive tasks.\n",
        "* Define more complex functions.\n",
        "* Interpret documentation to understand a rarely used method, specifically  `matplotlib.patches.rectangle()`."
      ]
    },
    {
      "cell_type": "markdown",
      "metadata": {
        "id": "0dMnFV2pIXB-"
      },
      "source": [
        "This prelab is broken into three topics, for the three new tools you'll need in the lab.  We'll begin by loading our usual packages"
      ]
    },
    {
      "cell_type": "code",
      "metadata": {
        "id": "NjHLNUjqEjpz"
      },
      "source": [
        "import numpy as np\n",
        "import matplotlib.pyplot as plt"
      ],
      "execution_count": null,
      "outputs": []
    },
    {
      "cell_type": "markdown",
      "metadata": {
        "id": "BRS0KkLzVPL0"
      },
      "source": [
        "## Arrays\n",
        "\n",
        "An array is a list of objects defined by the numpy package.  How is a numpy array different from a python list?\n",
        "* Elements in an array all need to be of the same type.  A list can contain a string, a function and a number.  An array must be all numbers, or all functions, or all strings.\n",
        "* There are lots of mathematical operations built into the array class of objects.  They allow us to perform operations on the entire array instead of on single elements.\n",
        "\n",
        "If we have a list of numbers that we'd like to turn into an array, we can use the `np.array()` method.  The list is the argument."
      ]
    },
    {
      "cell_type": "code",
      "metadata": {
        "id": "F_L3XiY1VRTz"
      },
      "source": [
        "x=np.array([2,3,5,6,7,10,15])\n",
        "print(x)"
      ],
      "execution_count": null,
      "outputs": []
    },
    {
      "cell_type": "markdown",
      "metadata": {
        "id": "iPhZEeXUYS7o"
      },
      "source": [
        "When we apply an arithmetic operation or a function (that takes a number as an input) to an array, it applies that operation to each element of the array."
      ]
    },
    {
      "cell_type": "code",
      "metadata": {
        "id": "GJtC29OCYurr"
      },
      "source": [
        "y=x+3\n",
        "print(y)"
      ],
      "execution_count": null,
      "outputs": []
    },
    {
      "cell_type": "markdown",
      "metadata": {
        "id": "LfDXoDL2Y5si"
      },
      "source": [
        "Array operations are used for graphing functions.  Instead of plugging in the x values we want to plot by hand, we can use the `np.arange()` method to produce an array containing an arithmetic sequence.  It takes three arguments (the last one is optional and defaults to 1).\n",
        "* The first argument is the first element of the array.\n",
        "* The third argument is how much we add to each element to get the next element.\n",
        "* The sequence ends when it reaches the second argument.  The second argument itself is not included in the sequence.\n",
        "\n",
        "Here's an example."
      ]
    },
    {
      "cell_type": "code",
      "metadata": {
        "id": "E8YlSSZKaHLi"
      },
      "source": [
        "x=np.arange(-2,3,0.5)\n",
        "print(x)"
      ],
      "execution_count": null,
      "outputs": []
    },
    {
      "cell_type": "markdown",
      "metadata": {
        "id": "PzgdiwtGaR_u"
      },
      "source": [
        "One great application for arrays is to produce the x and y coordinates for a graph."
      ]
    },
    {
      "cell_type": "code",
      "metadata": {
        "id": "wjYCiBeWZDH0"
      },
      "source": [
        "def f(x):\n",
        "  return x**2\n",
        "\n",
        "y=f(x)\n",
        "\n",
        "plt.plot(x,y)\n",
        "plt.grid()\n",
        "plt.show()"
      ],
      "execution_count": null,
      "outputs": []
    },
    {
      "cell_type": "markdown",
      "metadata": {
        "id": "v1A3Bmhiappj"
      },
      "source": [
        "### Exercise 1\n",
        "\n",
        "* What function did we graph here?\n",
        "* You should notice the graph looks like a sequence of line segments, not a parabola.  To see why, add a third argument `'o'` to `plt.plot()`. This is an optional format argument built into the `plot()` method.  Don't forget the comma or the quotation marks (it is a string). Rerun the code. What does this do?\n",
        "* Now you should see that to make a smooth graph, we need more points.  We can obtain that by defining `x` to have a much smaller step size.  Try it."
      ]
    },
    {
      "cell_type": "markdown",
      "metadata": {
        "id": "2NqqDqLTb1nr"
      },
      "source": [
        "Now we'll demonstrate some other array functions that might come in handy."
      ]
    },
    {
      "cell_type": "code",
      "metadata": {
        "id": "gDqBTDGXcWFo"
      },
      "source": [
        "np.sum(x) #sums the elements of x"
      ],
      "execution_count": null,
      "outputs": []
    },
    {
      "cell_type": "code",
      "metadata": {
        "id": "3rGJKPEhdf_Q"
      },
      "source": [
        "np.prod(x) #multiplies the elements of x\n"
      ],
      "execution_count": null,
      "outputs": []
    },
    {
      "cell_type": "code",
      "metadata": {
        "id": "MGX1_Ptee8vY"
      },
      "source": [
        "x[2:6] #geting slices (and single elements) works on arrays just like lists"
      ],
      "execution_count": null,
      "outputs": []
    },
    {
      "cell_type": "markdown",
      "metadata": {
        "id": "eQZYF_xUS39S"
      },
      "source": [
        "## Integral Approximation\n",
        "\n",
        "Another great application of arrays is to approxmiate the value of an integral.  Recall that\n",
        "$$\\int_a^b f(x)~dx\\approx\\sum_{i=1}^n f(x_i^*)\\Delta x$$\n",
        "\n",
        "If we write an array of test points $x_i^*$, we can evaluate $f$ on the entire array at once."
      ]
    },
    {
      "cell_type": "markdown",
      "metadata": {
        "id": "jprWFbpwTknO"
      },
      "source": [
        "### Exercise 2\n",
        "Write a code cell that computes the $L_{10}$ approximation of $$\\int_1^6 x^2~dx.$$\n",
        "Your cell should\n",
        "* Defines a variable `n=10`.\n",
        "* Define a variable `deltax` in terms of `n`.\n",
        "* Use `np.arange()` to save an array of `n` left endpoints to the variable `x`.  (Hint: What is the step size?)   This would be a good time to stop and check that you're on the right track.  If you print `x` you should see the output `[1. 1.5 2. 2.5 3. 3.5 4. 4.5 5. 5.5]`\n",
        "* Apply `f` to `x`, multiply by `deltax` and assign the result to the variable `left`.\n",
        "* Print the sum of `left`.  This is your approximation.  You should get `63.125`"
      ]
    },
    {
      "cell_type": "markdown",
      "metadata": {
        "id": "T2eiL5dSV4Fn"
      },
      "source": [
        "If you've written your code well, the number 10 should only appear when it was assigned to `n`.  All other places where 10 was relevant should be `n`s.  This way you can change the value of `n` and get a different approximation. Try `n=20`.  The output should be `67.34375`."
      ]
    },
    {
      "cell_type": "markdown",
      "metadata": {
        "id": "r1fV8xtpeKAK"
      },
      "source": [
        "## Flow-Control: For Loops\n",
        "\n",
        "What is python doing when you apply a function like `**2` to an array?  Imagine for a moment that you are going to manually perform such an operation.  You could write code that squares the first element, then the second, then the third..."
      ]
    },
    {
      "cell_type": "code",
      "metadata": {
        "id": "vnoRBGwIfSQC"
      },
      "source": [
        "y[0]=x[0]**2\n",
        "y[1]=x[1]**2\n",
        "y[2]=x[2]**2\n",
        "y[3]=x[3]**2"
      ],
      "execution_count": null,
      "outputs": []
    },
    {
      "cell_type": "markdown",
      "metadata": {
        "id": "iyGne7EHfcl2"
      },
      "source": [
        "This would be tedious, and when would you stop?  You would need to write a different procedure for each different length of array.\n",
        "\n",
        "Fortunately, these operations are already written for arrays, but there are times that we want to define an operation to happen many times, perhaps a variable number, and we can't use an array for it.  This is what the `for` loop is for.  The `for` loop is an example of *flow-control*, it isn't an instruction on its own.  Instead it tells the python interpreter which instructions to run.  \n",
        "\n",
        "For our first example, let's work with strings.  Here is a function.   Try applying it to your name and see what it outputs (maybe you can guess ahead of time)."
      ]
    },
    {
      "cell_type": "code",
      "metadata": {
        "id": "nFqBSzJkgnHW"
      },
      "source": [
        "def firstLetter(name):\n",
        "  return name[0]+' is for '+name"
      ],
      "execution_count": null,
      "outputs": []
    },
    {
      "cell_type": "markdown",
      "metadata": {
        "id": "PS5VF-hhg_EK"
      },
      "source": [
        "If we wanted to perform this function on a bunch of names, we can write a `for` loop."
      ]
    },
    {
      "cell_type": "code",
      "metadata": {
        "id": "f_IxFdmkgA2u"
      },
      "source": [
        "students=['Casey', 'Eric', 'Yuanzhe', 'Ogedi', 'Santiago', 'Angela', 'Hans']\n",
        "\n",
        "\n",
        "for name in students:\n",
        "  print(firstLetter(name))"
      ],
      "execution_count": null,
      "outputs": []
    },
    {
      "cell_type": "markdown",
      "metadata": {
        "id": "3vGvW5cyhHMc"
      },
      "source": [
        "The syntax is\n",
        "\n",
        "`for {variable} in {list}:`\n",
        "\n",
        "> `instructions(indented)`\n",
        "\n",
        "Important notes\n",
        "* The variable is entirely internal to the `for` loop.  It does not have any meaning outside.  If you use the same name as an already existing variable, the existing variable will be ignored by the `for` loop, and will be unaltered when the loop completes.\n",
        "* The `for` loop repeats over and over, each time assigning the next element of the list to the variable, until all have been used.\n",
        "* For each value of the variable, python performs the indented instructions until it comes to an unindented line (or the end of the cell).\n",
        "* Unlike a `def`, the `for` loop is not defining a function.  It does not return anything.\n",
        "\n",
        "We can use a `for` loop to replicate some of the functionality of an array.  This is a good exercise for learning.  In practice we should just use arrays when they are available."
      ]
    },
    {
      "cell_type": "code",
      "metadata": {
        "id": "UJO8cxGnsREb",
        "outputId": "bfbb514a-0eea-4fa5-ad45-1c63ececb1e7",
        "colab": {
          "base_uri": "https://localhost:8080/"
        }
      },
      "source": [
        "x=[2,3,5,7,10]\n",
        "for i in x:\n",
        "  print(i**2)"
      ],
      "execution_count": null,
      "outputs": [
        {
          "output_type": "stream",
          "name": "stdout",
          "text": [
            "4\n",
            "9\n",
            "25\n",
            "49\n",
            "100\n"
          ]
        }
      ]
    },
    {
      "cell_type": "markdown",
      "metadata": {
        "id": "W03HKYt5vlIZ"
      },
      "source": [
        "What if we wanted to sum these numbers?  A useful trick is to use a total variable and add to it each time the loop runs.  "
      ]
    },
    {
      "cell_type": "code",
      "metadata": {
        "id": "fPs5tCA9v7ZS"
      },
      "source": [
        "total=0       #set total to begin at 0\n",
        "\n",
        "for i in x:\n",
        "  total=total+i**2  # add i**2 to total and save the value back to total\n",
        "\n",
        "print(total)  #after the for loop is complete, print the value of total"
      ],
      "execution_count": null,
      "outputs": []
    },
    {
      "cell_type": "markdown",
      "metadata": {
        "id": "vHwDi-A1wOyi"
      },
      "source": [
        "This is a very important technique to understand.  Make sure every step makes sense to you.\n",
        "\n",
        "### Exercise 3\n",
        "* Write a code cell that computes the product of the numbers in `x` using a `for` loop.  What should your total start with?  What should each step of the loop do?  The answer should be 2100."
      ]
    },
    {
      "cell_type": "markdown",
      "metadata": {
        "id": "BbGTO1K7qGDl"
      },
      "source": [
        "Instead of a list we can use an *iterator* to define the values of the variable in a for loop.\n",
        "* An iterator contains code that will generate a list of values.\n",
        "* It does not contain the actual values.  It generates the next one as needed.\n",
        "* For you, the distinction between lists and iterators isn't generally meaningful. Just don't try to call for an element or a slice of an iterator.\n",
        "\n",
        "The most common iterator is the `range()` iterator.  It takes one argument.  I bet you can guess what it does after you run this code cell."
      ]
    },
    {
      "cell_type": "code",
      "metadata": {
        "id": "JEHQr3n6pO44"
      },
      "source": [
        "for i in range(10):\n",
        "  print(i)"
      ],
      "execution_count": null,
      "outputs": []
    },
    {
      "cell_type": "markdown",
      "metadata": {
        "id": "OX3wx5b7t2MI"
      },
      "source": [
        "The range iterator can be useful when we want to reference other elements of the list.  Instead of iterating over the elements, we iterate over an index variable.  To know how high the index variable should count, we can use the `len()` function.  The following two expressions produce the same output."
      ]
    },
    {
      "cell_type": "code",
      "metadata": {
        "id": "0ploxRkd5rJ3"
      },
      "source": [
        "for i in range(len(students)):\n",
        "  print(students[i])\n",
        "\n",
        "for name in students:\n",
        "  print(name)"
      ],
      "execution_count": null,
      "outputs": []
    },
    {
      "cell_type": "markdown",
      "metadata": {
        "id": "shu-EitF5zfO"
      },
      "source": [
        "Here is an example where the index variable is more useful.  Think about what trouble you'd run into if your for loop was\n",
        "\n",
        "`for name in students:`\n",
        "\n"
      ]
    },
    {
      "cell_type": "code",
      "metadata": {
        "id": "ewaprrL3uXgN"
      },
      "source": [
        "for i in range(len(students)-1):\n",
        "  print(students[i]+' comes before '+students[i+1])"
      ],
      "execution_count": null,
      "outputs": []
    },
    {
      "cell_type": "markdown",
      "metadata": {
        "id": "AVLhPW7SuzT-"
      },
      "source": [
        "### Exercise 4\n",
        "\n",
        "* What are the `students[i]` and `students[i+1]` in the printed string?\n",
        "* Why did we use the length of students minus 1 as the upper bound of our iterator?  What would happen without the `-1`?\n",
        "* Rewrite this code to print a list of who comes after whom. There are easy ways and hard ways to do this."
      ]
    },
    {
      "cell_type": "markdown",
      "metadata": {
        "id": "y9iHE75o24LB"
      },
      "source": [
        "One use of `for` loops is to build a list. This is similar to our techniqure for computing a sum.  Instead of adding values to a total variable, we append them to a list.  Here is a list of the first 10 square numbers."
      ]
    },
    {
      "cell_type": "code",
      "metadata": {
        "id": "ckDhDOtN3E55"
      },
      "source": [
        "squares=[] #an empty list\n",
        "\n",
        "for i in range(10):\n",
        "  squares.append(i**2)\n",
        "\n",
        "print(squares)\n"
      ],
      "execution_count": null,
      "outputs": []
    },
    {
      "cell_type": "markdown",
      "metadata": {
        "id": "DDt3YgFksiNz"
      },
      "source": [
        "Of course, we could have done this more easily with an array.  \n",
        "\n",
        "### Exercise 5\n",
        "* Write a code cell that uses a `for` loop to create a list consisting of the letters of your name. Then print your list.  Note that a string is not a list, but the `len()` function does work.  You should also remember how to get a certain letter from a string."
      ]
    },
    {
      "cell_type": "markdown",
      "metadata": {
        "id": "ajz13OlT3dNf"
      },
      "source": [
        "One final clever idea is to use a for loop to perform an operation n times. Newton's method comes to mind."
      ]
    },
    {
      "cell_type": "code",
      "metadata": {
        "id": "UB1pTILDsugC"
      },
      "source": [
        "def new(a):\n",
        "  x=a-(a**2-2)/(2*a)  # newtons method for f(x)=x^2-2\n",
        "  print(x)            # print the new value\n",
        "  return x            # returns the new value\n",
        "\n",
        "a=5 # initial guess\n",
        "\n",
        "for i in range(10):\n",
        "  a=new(a)"
      ],
      "execution_count": null,
      "outputs": []
    },
    {
      "cell_type": "markdown",
      "metadata": {
        "id": "26gwkcvHtXgL"
      },
      "source": [
        "Notice that we didn't use the variable of the `for` loop at all.  Making it run through an iterator of 10 elements just ensured that the instructions were performed 10 times.\n",
        "\n",
        "Flow control is where programming becomes powerful.  A few lines of code can set off millions of operations.  It is also where coding becomes hard.  The first step is to understand what the `for` loop is instructing python to do in examples like these. The next step is understanding how to design a `for` loop to solve the problems that you want to solve."
      ]
    },
    {
      "cell_type": "markdown",
      "metadata": {
        "id": "8j_S2m8pLZlc"
      },
      "source": [
        "## Case-study: the `rectangle()` method\n",
        "\n",
        "Arrays, for loops, functions, lists and strings are all things that you should memorize if you intend to use python regularly.  Much of the time, though, you'll need a function once for a specific application, and never again (or infrequently).  Let's model how to do this.\n",
        "\n",
        "I want to add some rectangles to my plots in the following lab (go ahead and guess why).  Let's search for \"matplotlib python rectangles\" in our favorite search engine. We might find some nice question and answers on popular forums.  These are interesting, but somewhere in the list should be the official matplotlib documentation for its rectangle function.  Here's the link I found.\n",
        "\n",
        "[https://matplotlib.org/3.1.1/api/_as_gen/matplotlib.patches.Rectangle.html](https://matplotlib.org/3.1.1/api/_as_gen/matplotlib.patches.Rectangle.html)\n",
        "\n"
      ]
    },
    {
      "cell_type": "markdown",
      "metadata": {
        "id": "BlT73i2NGCUz"
      },
      "source": [
        "The first line on the page gives us the syntax of the command\n",
        "\n",
        "`class matplotlib.patches.Rectangle(xy, width, height, angle=0.0, **kwargs)`\n",
        "\n",
        "* `class` means that this is a class of objects. This class of objects likely has its own methods (you'll find them lower on the page).\n",
        "* `matplotlib.patches.Rectangle` is the method that creates an object of this class.  Notice this is in the `patches` library of `matplotlib`.  We've only imported `matplotlib.pyplot` so we'll need to load this library too.\n",
        "* The rest of the line tells us about the arguments:  \n",
        " * `xy` `width` and `height` are the three mandatory arguments.\n",
        " * `angle=0.0` is an example of a keyword argument. We include it by writing `angle=value`.  If we don't include it, this line tells us that it defaults to `0.0`.\n",
        " * `**kwargs` means that there are potentially other keyword arguments that we can add.\n",
        "\n",
        "Below this line the parameters (arguments) are described in detail.  For example `(x,y)` has the form `(float,float)`.  A \"float\" is a floating-point number.  For our purposes, it is a number with a decimal point (in contrast to an integer).  That means that the argument `xy` needs to be an ordered pair of numbers. That matches the description: \"The bottom and left rectangle coordinates.\"\n"
      ]
    },
    {
      "cell_type": "markdown",
      "metadata": {
        "id": "KkyD6C_HJpUG"
      },
      "source": [
        "Let's implement this command.  First we'll need to import `matplotlib.patches`"
      ]
    },
    {
      "cell_type": "code",
      "metadata": {
        "id": "F0JdckcdAkiM"
      },
      "source": [
        "import matplotlib.patches as patches"
      ],
      "execution_count": null,
      "outputs": []
    },
    {
      "cell_type": "markdown",
      "metadata": {
        "id": "jqPjmJn9NeYT"
      },
      "source": [
        "Let's define a rectangle.  We'll need to choose a lower left corner `xy`, a `width` and a `height`."
      ]
    },
    {
      "cell_type": "code",
      "metadata": {
        "id": "IGvqlueENfey"
      },
      "source": [
        "rect=patches.Rectangle((2,3), 6, 4)\n",
        "print(rect)"
      ],
      "execution_count": null,
      "outputs": []
    },
    {
      "cell_type": "markdown",
      "metadata": {
        "id": "2HXTF9ZhJ7CW"
      },
      "source": [
        "That was exciting....\n",
        "\n",
        "Now how do we actually add our rectangle to a picture?  The class doesn't tell us that.  We'd need to find the documentation for a plot and see what method adds pacthes like ours.  I'll save you the digging around.  Patches can be added to objects called `axes`. The following code creates an axis, adds a graph, and adds our rectangle."
      ]
    },
    {
      "cell_type": "code",
      "metadata": {
        "id": "KK7Vr2rmKGcz"
      },
      "source": [
        "x=np.arange(0,5,0.1)\n",
        "ax=plt.axes()          # defines an axis in the drawing\n",
        "ax.plot(x,x**2)\n",
        "rect=patches.Rectangle((2,3), 6, 4)\n",
        "ax.add_patch(rect)\n",
        "plt.show()"
      ],
      "execution_count": null,
      "outputs": []
    },
    {
      "cell_type": "markdown",
      "metadata": {
        "id": "d5h67SCQOkVQ"
      },
      "source": [
        "The code creates an object `ax` which is an axis in the current picture.`pyplot` always has a current picture ready to add to, until you call `plt.show()`.  We can call the `.plot()` method and the `.add_patches()` to add to our axis.\n",
        "\n",
        "We can try adding a keyword argument.  The documentation lists `fill` as a keyword that is a `bool`.  \n",
        "* `bool` means a boolean.  It is `True` or `False`.\n",
        "* Booleans are not strings.  No ' required.\n",
        "* Be sure to capitalize `True` or `False`.\n",
        "\n",
        "Here is an example with the keyword argument added.\n"
      ]
    },
    {
      "cell_type": "code",
      "metadata": {
        "id": "lHbcuFl8RRBM"
      },
      "source": [
        "x=np.arange(0,5,0.1)\n",
        "ax=plt.axes()\n",
        "ax.plot(x,x**2)\n",
        "rect=patches.Rectangle((2,3), 6, 4, fill=False)\n",
        "ax.add_patch(rect)\n",
        "plt.show()"
      ],
      "execution_count": null,
      "outputs": []
    },
    {
      "cell_type": "markdown",
      "metadata": {
        "id": "unm1m__1QLVc"
      },
      "source": [
        "### Exercise 6\n",
        "\n",
        "* Add the keyword argument `color='red'` to the rectangle we assigned to `rect`.\n",
        "* Look up the keyword `hatch` in the documentation.  It suggests several possible strings that `hatch` can be set equal to.  Give one a try."
      ]
    },
    {
      "cell_type": "markdown",
      "metadata": {
        "id": "W-s4eHsVWbMj"
      },
      "source": [
        "There are lots of uses of rectangles.  We would like to draw a picture of the approximation of an integral."
      ]
    },
    {
      "cell_type": "markdown",
      "metadata": {
        "id": "qZV-tHGTeUkE"
      },
      "source": [
        "## Exercise 7\n",
        "Use a `for` loop and `patches.Rectangle()` to display the rectangles of the $L_{10}$ approximation of $$\\int_1^6 x^2~dx$$\n",
        "* Assign the value `10` to the variable `n`\n",
        "* Define a variable `deltax` in terms of `n`.\n",
        "* Use `np.arrange()` to save an array of `n` left endpoints to the variable `xvalues`.\n",
        "* Create an axis\n",
        "* Write a `for` loop that takes each `x` in `xvalues` and\n",
        "  * Defines a rectangle at `(x,0)` with width `deltax` and height equal to `f(x)`\n",
        "  * Adds that rectangle to the axis\n",
        "* Define an array `x` with a smaller step size and use it to add a plot of $y=x^2$ to the axis\n",
        "* Show the plot.\n"
      ]
    }
  ]
}