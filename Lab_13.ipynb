{
  "nbformat": 4,
  "nbformat_minor": 0,
  "metadata": {
    "colab": {
      "provenance": [],
      "include_colab_link": true
    },
    "kernelspec": {
      "name": "python3",
      "display_name": "Python 3"
    }
  },
  "cells": [
    {
      "cell_type": "markdown",
      "metadata": {
        "id": "view-in-github",
        "colab_type": "text"
      },
      "source": [
        "<a href=\"https://colab.research.google.com/github/heidilyu/Advanced-Calculus-/blob/main/Lab_13.ipynb\" target=\"_parent\"><img src=\"https://colab.research.google.com/assets/colab-badge.svg\" alt=\"Open In Colab\"/></a>"
      ]
    },
    {
      "cell_type": "markdown",
      "metadata": {
        "id": "H9uexyJcv5Ym"
      },
      "source": [
        "# Lab 1.3\n",
        "\n",
        "Goals:\n",
        "* Compute arithmetic expressions.\n",
        "* Define and use functions.\n",
        "* Graph functions.\n",
        "* Implement Newton's method.\n",
        "* Determine which properties of a function affect the speed of Newton's method."
      ]
    },
    {
      "cell_type": "markdown",
      "metadata": {
        "id": "RUD-70U3GRpT"
      },
      "source": [
        "### Instructions\n",
        "* With your group, work through each of the questions below.  Most questions include some discussion and some bullet-pointed instructions.  Make sure you carry out the bullet-pointed instructions, because that it what is graded.  \n",
        "* You are expected to collaborate with your group.  You should arrive at the answers to these questions together.  However, your submitted answers should be expressed in your own words.\n",
        "* If you need to pause, you can save and come back to your work later.  \n",
        "* When you are done, select \"download .ipynb\" from the file menu.  Save the ipynb to your computer, then upload it to the Lab assignment in gradescope.\n"
      ]
    },
    {
      "cell_type": "markdown",
      "metadata": {
        "id": "9g3kL9HcwgDU"
      },
      "source": [
        "We will begin by importing the libraries we use for graphing."
      ]
    },
    {
      "cell_type": "code",
      "metadata": {
        "id": "F8wEIdO3wfws"
      },
      "source": [
        "import matplotlib.pyplot as plt\n",
        "import numpy as np"
      ],
      "execution_count": 41,
      "outputs": []
    },
    {
      "cell_type": "markdown",
      "metadata": {
        "id": "qNOhsOpmxLyH"
      },
      "source": [
        "Define five algebraic functions by running this cell.  Each person in your group should pick a different one of these functions.  For the rest of the lab, \"your function\" refers to the function you picked."
      ]
    },
    {
      "cell_type": "code",
      "metadata": {
        "id": "X1tu6QZFv2Hz"
      },
      "source": [
        "def f1(x):\n",
        "  return x**3 - 4*x**2 + 6*x - 2.5\n",
        "\n",
        "def f2(x):\n",
        "  return x**3 - 6*x**2 + 14*x - 10.5\n",
        "\n",
        "def f3(x):\n",
        "  return x**3 - 10*x**2 + 30*x - 26.5\n",
        "\n",
        "def f4(x):\n",
        "  return x**3 - 5*x**2 + 10*x - 6.5\n",
        "\n",
        "def f5(x):\n",
        "  return x**3 - 8*x**2 + 22*x - 18.5"
      ],
      "execution_count": 42,
      "outputs": []
    },
    {
      "cell_type": "markdown",
      "source": [
        "Hao chose f1(x)"
      ],
      "metadata": {
        "id": "sNyzIHIbNxNM"
      }
    },
    {
      "cell_type": "markdown",
      "metadata": {
        "id": "Kr5nenYR0eJT"
      },
      "source": [
        "Your function has a root (x-intercept) near $x=2$, but it would be difficult to compute exactly.  Here's an idea.  We can make the linearization $L(x)$ of your function at $a=2$, and solve for the point where $L(x)=0$.  It won't be exactly the root of your function, but it should be a closer guess than $2$."
      ]
    },
    {
      "cell_type": "markdown",
      "metadata": {
        "id": "j-clb4YF0Z0S"
      },
      "source": [
        "### Q1\n",
        "\n",
        "* In a code cell below this, define a function `l(x)` which is the linearization of your function at $a=2$.  You can compute the derivative and value you need by hand, with a calculator, or in a code cell.\n",
        "* Create a graph using $x$ values near $2$ that contains your function and its linearization.  \n",
        "* You can restrict the height of the graph so that you can see the details better by calling `plt.ylim((-5,5))` before you call `plt.show()`."
      ]
    },
    {
      "cell_type": "code",
      "source": [
        "def f1(x):\n",
        "  return x**3 - 4*x**2 + 6*x - 2.5\n",
        "\n",
        "def f_prime(x):\n",
        "  return 3*x**2 - 8*x + 6\n",
        "\n",
        "a = 2\n",
        "f_a = f1(a)\n",
        "f_prime_a = f_prime(a)\n",
        "\n",
        "def l(x):\n",
        "  return f_a + f_prime_a *(x-a)\n",
        "\n",
        "x=np.arange(1,3,0.1)\n",
        "\n",
        "plt.plot(x, f1(x))\n",
        "plt.plot(x, l(x))\n"
      ],
      "metadata": {
        "colab": {
          "base_uri": "https://localhost:8080/",
          "height": 447
        },
        "id": "B36RVDf2N_YV",
        "outputId": "93f4420b-c371-4447-f38d-756d92eb3839"
      },
      "execution_count": 43,
      "outputs": [
        {
          "output_type": "execute_result",
          "data": {
            "text/plain": [
              "[<matplotlib.lines.Line2D at 0x7f9a68a873d0>]"
            ]
          },
          "metadata": {},
          "execution_count": 43
        },
        {
          "output_type": "display_data",
          "data": {
            "text/plain": [
              "<Figure size 640x480 with 1 Axes>"
            ],
            "image/png": "[encoded data removed]"
          },
          "metadata": {}
        }
      ]
    },
    {
      "cell_type": "markdown",
      "metadata": {
        "id": "y0Jr9_sx12rS"
      },
      "source": [
        "### Q2\n",
        "Now we'll apply Newton's Method to your function.  You already have a function, but you need a derivative.  \n",
        "* Define a new function `df(x)` that returns the derivative of your function at `x`.\n",
        "* Copy your definition of `new(a)` from the prelab.\n",
        "* Modify `new(a)` to use your function, intead of `f` to compute the value it returns (or redefine `f` to be your function, either will work).\n",
        "* Test your code by running `new(2)`.  The result should be the $x$-intercept of the linearization you graphed in Q1.\n"
      ]
    },
    {
      "cell_type": "code",
      "source": [
        "def df(a):\n",
        "  return 3*a**2 - 8*a + 6\n",
        "\n",
        "def new(a):\n",
        "  return a - f1(a)/df(a)\n",
        "\n",
        "first_guess = new(2)\n",
        "second_guess = new(first_guess)\n",
        "\n",
        "print(new(2))"
      ],
      "metadata": {
        "colab": {
          "base_uri": "https://localhost:8080/"
        },
        "id": "xAA-uAKNP-PN",
        "outputId": "2adf7f77-d310-45d7-b1e4-4792eb84688d"
      },
      "execution_count": 45,
      "outputs": [
        {
          "output_type": "stream",
          "name": "stdout",
          "text": [
            "1.25\n"
          ]
        }
      ]
    },
    {
      "cell_type": "markdown",
      "metadata": {
        "id": "_RNm8ojL2hdN"
      },
      "source": [
        "### Q3\n",
        "\n",
        "We are now ready to repeatedly apply the `new()` function to get a very good approximation of the $x$-intercept of your function.  However, it is no fun to just spit out the answer.  Let's make it show us its steps.\n",
        "* Modify your definition of `new()`:\n",
        " * Instead of returning its output immediately, first save it to a variable `x`\n",
        " * Then print `x`\n",
        " * Then return `x`.\n",
        "* Apply your modified `new()` function 10 times to the intial guess $a=2$. It should print out 10 approximations before returning its final answer.\n",
        "\n",
        "You should notice that the last few approximations are remarkably close together.  That's because the approximations are so accurate that they cannot be improved upon much."
      ]
    },
    {
      "cell_type": "code",
      "source": [
        "a = 2\n",
        "\n",
        "for i in range(10):\n",
        "  a = new(a)\n",
        "  print(a)\n"
      ],
      "metadata": {
        "colab": {
          "base_uri": "https://localhost:8080/"
        },
        "id": "_qswxfUISxBK",
        "outputId": "f606d3c1-a6b5-4ae9-e1fa-3f221b21fa30"
      },
      "execution_count": 20,
      "outputs": [
        {
          "output_type": "stream",
          "name": "stdout",
          "text": [
            "1.25\n",
            "0.2272727272727273\n",
            "0.5342370825934427\n",
            "0.6441139040541561\n",
            "0.6573162008805215\n",
            "0.6574919378860324\n",
            "0.6574919686319243\n",
            "0.6574919686319252\n",
            "0.6574919686319252\n",
            "0.6574919686319252\n"
          ]
        }
      ]
    },
    {
      "cell_type": "markdown",
      "metadata": {
        "id": "c9ytTejn32gC"
      },
      "source": [
        "###Q4\n",
        "\n",
        "We should assume that the final outcome of applying the `new` function 10 times is close enough to the actual root of your function.  Now the question is, how quickly did Newton's method get you close to that actual root?  To answer this you'll want to know the error in each approximation.\n",
        "\n",
        "* Copy the line in which you apply `new()` 10 times into a new code cell.  Instead of just printing the output, assign it to a variable called `actual`.\n",
        "* Modify your `new` function again.  This time, instead of printing the value of `x`, have it print difference between `x` and `actual` before returning `x`.\n",
        "* Apply the `new` function 10 times again to the intial guess $a=2$.  Look at the list of errors printed.  What do you notice?\n",
        "\n",
        "It may help you make sense of what you saw to know that python displays small numbers in scientific notation.  Furthermore, numbers in python are by default only stored to 32 decimal places.\n"
      ]
    },
    {
      "cell_type": "code",
      "source": [
        "a = 2\n",
        "\n",
        "for i in range(10):\n",
        "  a = new(a)\n",
        "\n",
        "actual = a\n",
        "\n",
        "def new(a):\n",
        "  x = a - f1(a)/df(a)\n",
        "  error = x - actual\n",
        "  print(\"error =:\", error)\n",
        "  return x\n",
        "\n",
        "a = 2\n",
        "for i in range(10):\n",
        "  a = new(a)\n"
      ],
      "metadata": {
        "colab": {
          "base_uri": "https://localhost:8080/",
          "height": 367
        },
        "id": "Gh08TB1aT4H1",
        "outputId": "00e602dd-1ebb-486c-81e7-2af901e948f3"
      },
      "execution_count": 32,
      "outputs": [
        {
          "output_type": "stream",
          "name": "stdout",
          "text": [
            "error =: 0.5925080313680748\n"
          ]
        },
        {
          "output_type": "error",
          "ename": "TypeError",
          "evalue": "unsupported operand type(s) for ** or pow(): 'NoneType' and 'int'",
          "traceback": [
            "\u001b[0;31m---------------------------------------------------------------------------\u001b[0m",
            "\u001b[0;31mTypeError\u001b[0m                                 Traceback (most recent call last)",
            "\u001b[0;32m/tmp/ipython-input-32-4125298113.py\u001b[0m in \u001b[0;36m<cell line: 0>\u001b[0;34m()\u001b[0m\n\u001b[1;32m      2\u001b[0m \u001b[0;34m\u001b[0m\u001b[0m\n\u001b[1;32m      3\u001b[0m \u001b[0;32mfor\u001b[0m \u001b[0mi\u001b[0m \u001b[0;32min\u001b[0m \u001b[0mrange\u001b[0m\u001b[0;34m(\u001b[0m\u001b[0;36m10\u001b[0m\u001b[0;34m)\u001b[0m\u001b[0;34m:\u001b[0m\u001b[0;34m\u001b[0m\u001b[0;34m\u001b[0m\u001b[0m\n\u001b[0;32m----> 4\u001b[0;31m   \u001b[0ma\u001b[0m \u001b[0;34m=\u001b[0m \u001b[0mnew\u001b[0m\u001b[0;34m(\u001b[0m\u001b[0ma\u001b[0m\u001b[0;34m)\u001b[0m\u001b[0;34m\u001b[0m\u001b[0;34m\u001b[0m\u001b[0m\n\u001b[0m\u001b[1;32m      5\u001b[0m \u001b[0;34m\u001b[0m\u001b[0m\n\u001b[1;32m      6\u001b[0m \u001b[0mactual\u001b[0m \u001b[0;34m=\u001b[0m \u001b[0ma\u001b[0m\u001b[0;34m\u001b[0m\u001b[0;34m\u001b[0m\u001b[0m\n",
            "\u001b[0;32m/tmp/ipython-input-26-2518471847.py\u001b[0m in \u001b[0;36mnew\u001b[0;34m(a)\u001b[0m\n\u001b[1;32m      7\u001b[0m \u001b[0;34m\u001b[0m\u001b[0m\n\u001b[1;32m      8\u001b[0m \u001b[0;32mdef\u001b[0m \u001b[0mnew\u001b[0m\u001b[0;34m(\u001b[0m\u001b[0ma\u001b[0m\u001b[0;34m)\u001b[0m\u001b[0;34m:\u001b[0m\u001b[0;34m\u001b[0m\u001b[0;34m\u001b[0m\u001b[0m\n\u001b[0;32m----> 9\u001b[0;31m   \u001b[0mx\u001b[0m \u001b[0;34m=\u001b[0m \u001b[0ma\u001b[0m \u001b[0;34m-\u001b[0m \u001b[0mf1\u001b[0m\u001b[0;34m(\u001b[0m\u001b[0ma\u001b[0m\u001b[0;34m)\u001b[0m\u001b[0;34m/\u001b[0m\u001b[0mdf\u001b[0m\u001b[0;34m(\u001b[0m\u001b[0ma\u001b[0m\u001b[0;34m)\u001b[0m\u001b[0;34m\u001b[0m\u001b[0;34m\u001b[0m\u001b[0m\n\u001b[0m\u001b[1;32m     10\u001b[0m   \u001b[0merror\u001b[0m \u001b[0;34m=\u001b[0m \u001b[0mx\u001b[0m \u001b[0;34m-\u001b[0m \u001b[0mactual\u001b[0m\u001b[0;34m\u001b[0m\u001b[0;34m\u001b[0m\u001b[0m\n\u001b[1;32m     11\u001b[0m   \u001b[0mprint\u001b[0m\u001b[0;34m(\u001b[0m\u001b[0;34m\"error =:\"\u001b[0m\u001b[0;34m,\u001b[0m \u001b[0merror\u001b[0m\u001b[0;34m)\u001b[0m\u001b[0;34m\u001b[0m\u001b[0;34m\u001b[0m\u001b[0m\n",
            "\u001b[0;32m/tmp/ipython-input-6-928408347.py\u001b[0m in \u001b[0;36mf1\u001b[0;34m(x)\u001b[0m\n\u001b[1;32m      1\u001b[0m \u001b[0;32mdef\u001b[0m \u001b[0mf1\u001b[0m\u001b[0;34m(\u001b[0m\u001b[0mx\u001b[0m\u001b[0;34m)\u001b[0m\u001b[0;34m:\u001b[0m\u001b[0;34m\u001b[0m\u001b[0;34m\u001b[0m\u001b[0m\n\u001b[0;32m----> 2\u001b[0;31m   \u001b[0;32mreturn\u001b[0m \u001b[0mx\u001b[0m\u001b[0;34m**\u001b[0m\u001b[0;36m3\u001b[0m \u001b[0;34m-\u001b[0m \u001b[0;36m4\u001b[0m\u001b[0;34m*\u001b[0m\u001b[0mx\u001b[0m\u001b[0;34m**\u001b[0m\u001b[0;36m2\u001b[0m \u001b[0;34m+\u001b[0m \u001b[0;36m6\u001b[0m\u001b[0;34m*\u001b[0m\u001b[0mx\u001b[0m \u001b[0;34m-\u001b[0m \u001b[0;36m2.5\u001b[0m\u001b[0;34m\u001b[0m\u001b[0;34m\u001b[0m\u001b[0m\n\u001b[0m\u001b[1;32m      3\u001b[0m \u001b[0;34m\u001b[0m\u001b[0m\n\u001b[1;32m      4\u001b[0m \u001b[0;32mdef\u001b[0m \u001b[0mf_prime\u001b[0m\u001b[0;34m(\u001b[0m\u001b[0mx\u001b[0m\u001b[0;34m)\u001b[0m\u001b[0;34m:\u001b[0m\u001b[0;34m\u001b[0m\u001b[0;34m\u001b[0m\u001b[0m\n\u001b[1;32m      5\u001b[0m   \u001b[0;32mreturn\u001b[0m \u001b[0;36m3\u001b[0m\u001b[0;34m*\u001b[0m\u001b[0mx\u001b[0m\u001b[0;34m**\u001b[0m\u001b[0;36m2\u001b[0m \u001b[0;34m-\u001b[0m \u001b[0;36m8\u001b[0m\u001b[0;34m*\u001b[0m\u001b[0mx\u001b[0m \u001b[0;34m+\u001b[0m \u001b[0;36m6\u001b[0m\u001b[0;34m\u001b[0m\u001b[0;34m\u001b[0m\u001b[0m\n",
            "\u001b[0;31mTypeError\u001b[0m: unsupported operand type(s) for ** or pow(): 'NoneType' and 'int'"
          ]
        }
      ]
    },
    {
      "cell_type": "markdown",
      "metadata": {
        "id": "JOSltMrY5qpF"
      },
      "source": [
        "###Q5\n",
        "\n",
        "This is our main question:  \n",
        "\n",
        "> What properties of a function make Newton's method more or less efficient at finding a root?\n",
        "\n",
        "The method worked for everyone's function eventually, but some coverged more quickly than others.  They got closer to the actual value in fewer steps.  The purpose of this question is to systematically generate and compare data and to try to draw conclusions from that data.  Confer with your group and agree on an apporach to the following questions.  Report your decisions and findings in a combination of text and code cells.\n",
        "\n",
        "* How are you going to measure how quickly the method is converging?\n",
        "* Is everyone's root the same distance from their starting guess?  In order to get comparable data how can you control for the discrepancies here?\n",
        "* Generate and share the data about your respective functions.  Explain how quickly each person's function converges according the the measure you chose.\n",
        "* Make a conjecture about what underlying property of the functions or their graphs caused some to converge faster than others.  \n",
        "* For full credit, propose a reasonable mathematical explanation for why this property would have that effect.\n",
        "\n"
      ]
    },
    {
      "cell_type": "markdown",
      "source": [
        "which one is the fastest in convergence to the root?\n",
        "which one is the slowest?\n",
        "\n",
        "what made it converge slaw"
      ],
      "metadata": {
        "id": "Y9dMJsF9WZce"
      }
    },
    {
      "cell_type": "markdown",
      "source": [
        "1. f2(x) converges the fastest, when the slope is the steepest\n",
        "\n",
        "2. f'a is small, moving l\n",
        "\n",
        "3. f'' is small, then f' is small,\n",
        "\n",
        "\n"
      ],
      "metadata": {
        "id": "ad0n-JKtVVej"
      }
    }
  ]
}