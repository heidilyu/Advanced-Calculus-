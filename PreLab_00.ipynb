{
  "nbformat": 4,
  "nbformat_minor": 0,
  "metadata": {
    "colab": {
      "provenance": [],
      "include_colab_link": true
    },
    "kernelspec": {
      "name": "python3",
      "display_name": "Python 3"
    }
  },
  "cells": [
    {
      "cell_type": "markdown",
      "metadata": {
        "id": "view-in-github",
        "colab_type": "text"
      },
      "source": [
        "<a href=\"https://colab.research.google.com/github/heidilyu/Advanced-Calculus-/blob/main/Pre_Lab_00.ipynb\" target=\"_parent\"><img src=\"https://colab.research.google.com/assets/colab-badge.svg\" alt=\"Open In Colab\"/></a>"
      ]
    },
    {
      "cell_type": "markdown",
      "metadata": {
        "id": "1PM3Dr30RiLy"
      },
      "source": [
        "#Pre-Lab 0.0\n",
        "\n",
        "Goals:\n",
        "1. Become familiar with how python manipulates numbers, strings, and lists.\n",
        "2. Write functions, use functions and use methods.\n"
      ]
    },
    {
      "cell_type": "markdown",
      "metadata": {
        "id": "L2_PS9sETiyK"
      },
      "source": [
        "## What am I looking at?\n",
        "\n",
        "This document is a Jupyter notebook.  It allows us to run programs, display data, and also to produce nice looking explanations.  The notebook is a sequence of cells. Some cells are text cell, like this one.  Other cells are code cells which can be run by hitting the arrow to the left of them.  The code in our notebooks will be read and executed by a python interpreter.  Try this one now.\n",
        "\n",
        "\n"
      ]
    },
    {
      "cell_type": "code",
      "metadata": {
        "id": "OKicWvYJOXvh"
      },
      "source": [
        "x = 17+3*50     # assign a value to the variable x\n",
        "\n",
        "print(x)        # print the value of the variable x"
      ],
      "execution_count": null,
      "outputs": []
    },
    {
      "cell_type": "markdown",
      "metadata": {
        "id": "YKZeN6iaVUJs"
      },
      "source": [
        "Notice the following important ideas\n",
        "\n",
        "* Each instruction gets it own line of code.  There are no spaces to the left of each instruction.  The python intepreter is positional (unlike many other coding languages).  If we put instructions in the wrong place, it will return an error.  You can verify this by trying to put the two instructions on the same line, or putting a space before one of them and re-running the cell.  \n",
        "* On the other hand, vertical position is less strict.  Feel free to add as many blank lines as you want above, below or between your instructions.\n",
        "* The `#` symbol begins a comment.  Comments are intended for human readers. Anything on the line after a `#` is ignored by the interpreter.\n",
        "* We assign a value to a variable using the syntax `variable = value`\n",
        "* `print()` is a function.  Like a mathematical function, it has an input, and based on that input it does something.  Specifically, it prints whatever is in the parenthses into the output cell.\n",
        "\n",
        "\n",
        "Running a code cell executes the code in that cell.  It does not execute the code in other code cells. However, the cells share a common source of information.  When you run a cell that defines a variable or a function, all the other cell will now know the value of the variable, or the instructions to execute the function. You can see this by running the cell below. If you ran the cell above, then it should be able to evalaute the expression."
      ]
    },
    {
      "cell_type": "code",
      "metadata": {
        "id": "TohQj338VvRJ"
      },
      "source": [
        "print(x-100)       # print the value of x-100"
      ],
      "execution_count": null,
      "outputs": []
    },
    {
      "cell_type": "markdown",
      "metadata": {
        "id": "NdHttuyEbHJ6"
      },
      "source": [
        "### Exercise 1\n",
        "\n",
        "Variables can be overwritten.  If you assign a value to a variable that already has a value, the old value is forgotten.\n",
        "\n",
        "* Make a code cell below this one.  Write an instruction to assign the value `5` to the variable `x`, then run the cell.\n",
        "* What to you expect to happen when you re-run the cell above this one?  Try it and see if you were correct."
      ]
    },
    {
      "cell_type": "markdown",
      "metadata": {
        "id": "dsXau5hkWWRT"
      },
      "source": [
        "## Mathematical Operations\n",
        "\n",
        "Python is a perfectly good calculator.  In the following code block, I'll demonstate the use of the symbols: `+ - * / ** ()`\n",
        "\n",
        "Make sure you understand what each symbol is doing.\n",
        "\n",
        "\n"
      ]
    },
    {
      "cell_type": "code",
      "metadata": {
        "id": "IBOCVm7hXFkP"
      },
      "source": [
        "print(3+4)      # 3 plus 4\n",
        "print(3-4)      # 3 minus 4\n",
        "print(3*4)      # 3 times 4\n",
        "print(3/4)      # 3 divided by 4\n",
        "print(3**4)     # 3 to the 4th power\n",
        "print(2+3*4)    # Notice python knows order of operations\n",
        "print((2+3)*4)  # We can use parentheses to define order, like in math"
      ],
      "execution_count": null,
      "outputs": []
    },
    {
      "cell_type": "markdown",
      "metadata": {
        "id": "_blgzmmrag4B"
      },
      "source": [
        "Jupyter noteboooks have a time-saving feature.  If the last line of a code cell is a value (not an assignment or a function), it will print that value without you having to use the print command.  This makes it easier to use a code cell as a calculator."
      ]
    },
    {
      "cell_type": "code",
      "metadata": {
        "id": "8979-KmmXGNX"
      },
      "source": [
        "30+20         # This computation will not be printed\n",
        "150-40        # This computation will be printed"
      ],
      "execution_count": null,
      "outputs": []
    },
    {
      "cell_type": "markdown",
      "metadata": {
        "id": "4A-COq_YdwGt"
      },
      "source": [
        "### Exercise 2\n",
        "\n",
        "* Use a code block to evaluate $(x+5)^3-\\frac{12}{x-3}$.  If `x` is still assigned the value `5`, then the output should be `994`."
      ]
    },
    {
      "cell_type": "markdown",
      "metadata": {
        "id": "VaWX1zBHeawA"
      },
      "source": [
        "## Strings\n",
        "\n",
        "Variables can have any combination of numbers and letters in their names (no spaces or punctuation).  Let's define the variable `rhinoceros`."
      ]
    },
    {
      "cell_type": "code",
      "metadata": {
        "id": "9cZLAMLde5QW"
      },
      "source": [
        "rhinoceros=1000000000"
      ],
      "execution_count": null,
      "outputs": []
    },
    {
      "cell_type": "markdown",
      "metadata": {
        "id": "MUMDUhOie9nY"
      },
      "source": [
        "Surely this is an appropriate value for `rhinoceros`, but what would be really exciting would be to have python print the word \"rhinoceros\".  Try this:"
      ]
    },
    {
      "cell_type": "code",
      "metadata": {
        "id": "x7qfJLzKfUm6"
      },
      "source": [
        "print(rhinoceros)"
      ],
      "execution_count": null,
      "outputs": []
    },
    {
      "cell_type": "markdown",
      "metadata": {
        "id": "PEwBUYF5faVc"
      },
      "source": [
        "In order to distinguish between words and variables, python uses a data type called a *string*.  We tell python that a collection of letters is a string and not a variable name by enclosing it in either `'` or `\"` marks."
      ]
    },
    {
      "cell_type": "code",
      "metadata": {
        "id": "3c8pf2uZgwxb"
      },
      "source": [
        "print('rhinoceros')"
      ],
      "execution_count": null,
      "outputs": []
    },
    {
      "cell_type": "markdown",
      "metadata": {
        "id": "ubIul2chgVE3"
      },
      "source": [
        "Important notes:\n",
        "* Strings can contain spaces, parentheses and other symbols that variables cannot.\n",
        "* Strings either begin and end with ' or begin and end with \".\n",
        "* A string is a value, just like a number.  A variable can be assigned that value."
      ]
    },
    {
      "cell_type": "code",
      "metadata": {
        "id": "hRTekmRogblJ"
      },
      "source": [
        "#assign the value 'awesome animal' to the variable rhinoceros\n",
        "rhinoceros='awesome animal'"
      ],
      "execution_count": null,
      "outputs": []
    },
    {
      "cell_type": "markdown",
      "metadata": {
        "id": "GX1wV1TNglTW"
      },
      "source": [
        "### Exercise 3\n",
        "\n",
        "* Explain what each of the instructions in the cell below is doing.  Why do they give the outputs that they give?"
      ]
    },
    {
      "cell_type": "code",
      "metadata": {
        "id": "ELUlnZCCg1HW"
      },
      "source": [
        "print('rhinoceros')\n",
        "print(rhinoceros)"
      ],
      "execution_count": null,
      "outputs": []
    },
    {
      "cell_type": "markdown",
      "metadata": {
        "id": "iGtGY6dW6Fx4"
      },
      "source": [
        "You can add concatenate strings with a `+` symbol.  If you don't know what \"concatenate\" means, run the cell below and see if you can figure it out."
      ]
    },
    {
      "cell_type": "code",
      "metadata": {
        "id": "IL68RB1r6bmy"
      },
      "source": [
        "print(\"Don't mess with the rhinoceros. \" + 'The rhinoceras is an '+ rhinoceros)"
      ],
      "execution_count": null,
      "outputs": []
    },
    {
      "cell_type": "markdown",
      "metadata": {
        "id": "brrXn2SP5mY9"
      },
      "source": [
        "## Lists\n",
        "\n",
        "We can collect a set of values together in a *list*.  The list itself is a value and can be assigned to a variable.  We can print the entire list, a single element, or a range of elements.  \n",
        "\n",
        "A list is denoted with square brackets.  Its elements are separated by commas. This block shows how to express a list.  It also shows a few operations that allow us to take a single element of a list, or a slice of the list."
      ]
    },
    {
      "cell_type": "code",
      "metadata": {
        "id": "wO7yvccD9lgl"
      },
      "source": [
        "vowels=['a', 'e', 'i', 'o', 'u', 'y']   # assign a list of strings to the variable vowels\n",
        "print(vowels)                           # print the entire list\n",
        "print(vowels[2])                        # print the element of the list at position 2\n",
        "print(vowels[1:4])                      # print the slice from position 1 to 4"
      ],
      "execution_count": null,
      "outputs": []
    },
    {
      "cell_type": "markdown",
      "metadata": {
        "id": "Mh5-AxBu_DK2"
      },
      "source": [
        "### Exercise 4\n",
        "\n",
        "* Did `vowels[2]` produce the entry you expected?  What index would you use to select `'a'`?\n",
        "* What does `vowels[-1]` do?  How do you make sense of this?\n",
        "* Pick the correct indices to produce the slice `['o','u','y']`\n"
      ]
    },
    {
      "cell_type": "markdown",
      "metadata": {
        "id": "M8J93W6-IXg-"
      },
      "source": [
        "Interstingly (though irrelevant to mathematical applications), these operations work on strings too.\n",
        "\n",
        "\n"
      ]
    },
    {
      "cell_type": "code",
      "metadata": {
        "id": "HqyLCriyIvvr"
      },
      "source": [
        "print('rhinoceros'[3])\n",
        "print('rhinoceros'[5:8])"
      ],
      "execution_count": null,
      "outputs": []
    },
    {
      "cell_type": "markdown",
      "metadata": {
        "id": "9x0wVGm19qzW"
      },
      "source": [
        "## Functions and Methods\n",
        "\n",
        "Often we want a program to do the same thing over and over.  For instance, we might want to compute something about each entry in a list of data.  We don't want to type out the instructions for each entry.  *Functions* and *methods* let us easily call on the same set of operations over and over.\n",
        "\n",
        "Functions and methods perform similar roles.  They perform some instructions and then return an output.  They have *arguments*, which are like the inputs of a mathematical function.  \n",
        "\n",
        "A function is applied by the syntax `functionname(arguments)`.  The output can be printed directly, or saved to a variable."
      ]
    },
    {
      "cell_type": "code",
      "metadata": {
        "id": "b4JGZihSAUq6"
      },
      "source": [
        "n=len(vowels)          #apply to len function to the list vowels\n",
        "print(n)\n",
        "\n",
        "number1=str(5)         #apply the str function to the number 5\n",
        "number2=str(12)        #apply the str function to the number 12\n",
        "print(number1+number2) #add (concatenate) the strings and print"
      ],
      "execution_count": null,
      "outputs": []
    },
    {
      "cell_type": "markdown",
      "metadata": {
        "id": "IwFAHczBFcW8"
      },
      "source": [
        "There are two functions at work here.\n",
        "* `len()` computes the length of a list.\n",
        "* `str()` turns its argument into a string."
      ]
    },
    {
      "cell_type": "markdown",
      "metadata": {
        "id": "X8_SnA0HBWFw"
      },
      "source": [
        "Methods are built in to certain types of objects.  They are functions that are applied to the object, though they may have other arguments as well.  You can only call a method on the type of object it was defined for. Some methods affect the object they were called on, others produce an output.\n",
        "\n",
        "A method is applied by the syntax `object.method(arguments)`"
      ]
    },
    {
      "cell_type": "code",
      "metadata": {
        "id": "d4mD0yUzC5OM"
      },
      "source": [
        "dinosaurs = ['stegosaurus', 't-rex', 'maiasaura' , 'diplodocus', 'tricerotops']\n",
        "n=dinosaurs.index('diplodocus') #the index method applied to dinosaurs.\n",
        "print(n)\n",
        "\n",
        "dinosaurs.sort() #the sort method applied to dinosaurs.  No arguments.\n",
        "dinosaurs.append('iguanodon') #the append method applied to dinosaurs.\n",
        "print(dinosaurs)\n"
      ],
      "execution_count": null,
      "outputs": []
    },
    {
      "cell_type": "markdown",
      "metadata": {
        "id": "krMWkUBhCPQ6"
      },
      "source": [
        "This cell used three methods.\n",
        "* The list method `index()` finds the position of the argument in the list.\n",
        "* The list method `append()` inserts the argument into the end of the list.\n",
        "* The list method `sort()` changes the list so the elements are in order.\n",
        "* Two different object types may have methods of the same name, but they aren't the same method.  They are defined separately."
      ]
    },
    {
      "cell_type": "markdown",
      "metadata": {
        "id": "OSkExoXvG9Tp"
      },
      "source": [
        "We want to be able write our own functions.  There is a specific syntax for this.  Let's define a function that takes the first and last letters of a string."
      ]
    },
    {
      "cell_type": "code",
      "metadata": {
        "id": "IwIDmcxCRpKP"
      },
      "source": [
        "def firstandlast(var):\n",
        "  first=var[0]\n",
        "  last=var[-1]\n",
        "  return first+last"
      ],
      "execution_count": null,
      "outputs": []
    },
    {
      "cell_type": "markdown",
      "metadata": {
        "id": "NeteJp32KEQ_"
      },
      "source": [
        "There is a lot to notice here.  Make sure you see all of these.\n",
        "* We begin defining the function with `def`, then the name of the function, along with the argument (or arguments) that we intend to use.  Finally we need a colon.\n",
        "* The following lines are the operations that will occur when the function is called.  Notice they are all **equally indented**.\n",
        "* We use the command `return` to make the function output whatever follows.\n",
        "\n",
        "Now we can call the function.  We can plug in anything we want.  The name `var` was internal to the function.  We can use any variable name we want in the definition, and it does not limit what named variables we can plug in."
      ]
    },
    {
      "cell_type": "code",
      "metadata": {
        "id": "zm-o43KCK4OO",
        "colab": {
          "base_uri": "https://localhost:8080/"
        },
        "outputId": "40a874cd-f623-49e2-e6b8-db3e1b1a72f7"
      },
      "source": [
        "#apply the function to the string 'rhinoceros'. print the result\n",
        "print(firstandlast('rhinoceros'))\n",
        "\n",
        "#apply the function to the  variable rhinoceros\n",
        "#print the result\n",
        "rhinoceros='awesome animal'\n",
        "print(firstandlast(rhinoceros))"
      ],
      "execution_count": null,
      "outputs": [
        {
          "output_type": "stream",
          "text": [
            "rs\n",
            "al\n"
          ],
          "name": "stdout"
        }
      ]
    },
    {
      "cell_type": "markdown",
      "metadata": {
        "id": "GCbj9SKwT86B"
      },
      "source": [
        "Functions work just as well with numbers. Here is a squaring function.  Since it both inputs and outputs a number, we can compose it with itself over and over.\n",
        "\n",
        "\n"
      ]
    },
    {
      "cell_type": "code",
      "metadata": {
        "id": "nObQJf7SUDHj"
      },
      "source": [
        "def sq(x):\n",
        "  return x**2\n",
        "\n",
        "n=sq(5)\n",
        "print(n)\n",
        "\n",
        "m=sq(sq(sq(sq(sq(5)))))\n",
        "print(m)"
      ],
      "execution_count": null,
      "outputs": []
    },
    {
      "cell_type": "markdown",
      "metadata": {
        "id": "nQnZXY5BL2iq"
      },
      "source": [
        "### Exercise 5\n",
        "\n",
        "* Write a function called `triplefirst()` that takes a list as an input, takes the first entry of the list and triples it.\n",
        "* Check that your function works on the list `[4,10,21,7]`. The value returned should be 12."
      ]
    }
  ]
}