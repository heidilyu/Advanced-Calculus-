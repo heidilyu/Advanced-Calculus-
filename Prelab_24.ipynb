{
  "nbformat": 4,
  "nbformat_minor": 0,
  "metadata": {
    "colab": {
      "provenance": [],
      "include_colab_link": true
    },
    "kernelspec": {
      "name": "python3",
      "display_name": "Python 3"
    }
  },
  "cells": [
    {
      "cell_type": "markdown",
      "metadata": {
        "id": "view-in-github",
        "colab_type": "text"
      },
      "source": [
        "<a href=\"https://colab.research.google.com/github/heidilyu/Advanced-Calculus-/blob/main/Prelab_24.ipynb\" target=\"_parent\"><img src=\"https://colab.research.google.com/assets/colab-badge.svg\" alt=\"Open In Colab\"/></a>"
      ]
    },
    {
      "cell_type": "markdown",
      "metadata": {
        "id": "bHi2H286paFN"
      },
      "source": [
        "# Pre-Lab 2.4\n",
        "\n",
        "Goals:\n",
        "\n",
        "* Generate random data using numpy.\n",
        "* Generate histograms using matplotlib.\n",
        "* Determine how the average of a sample of a random variable behaves.\n"
      ]
    },
    {
      "cell_type": "markdown",
      "metadata": {
        "id": "WEEEmHOILj7_"
      },
      "source": [
        "In this lab we're going to generate random data and display it.  First we'll need to import libraries."
      ]
    },
    {
      "cell_type": "code",
      "metadata": {
        "id": "mZZqUPjspZGa"
      },
      "source": [
        "import numpy as np\n",
        "import matplotlib.pyplot as plt"
      ],
      "execution_count": null,
      "outputs": []
    },
    {
      "cell_type": "markdown",
      "metadata": {
        "id": "8L4aCJr96SBq"
      },
      "source": [
        "## Random Variables\n",
        "\n",
        "Python can use the `numpy.random` library to sample random variables.  For instance the code below samples a normal random variable ($\\mu=0$, $\\sigma=1$)."
      ]
    },
    {
      "cell_type": "code",
      "metadata": {
        "id": "35MS7leZ6hkP"
      },
      "source": [
        "np.random.normal()"
      ],
      "execution_count": null,
      "outputs": []
    },
    {
      "cell_type": "markdown",
      "metadata": {
        "id": "LBYzL2X56vvl"
      },
      "source": [
        "### Exercise 1\n",
        "\n",
        "* Run the code a few times.  Notice that it is giving a different output every time.\n",
        "* Let's add some key values as arguments. Try each of the following:\n",
        " * `loc=2` moves the mean to $\\mu=2$.\n",
        " * `scale=3.2` changes the standard deviation to $\\sigma=3.2$.\n",
        " * `size=10` outputs an array of 10 samples instead of just one."
      ]
    },
    {
      "cell_type": "markdown",
      "metadata": {
        "id": "zjzhy8vmVRSs"
      },
      "source": [
        "## Histograms\n",
        "\n",
        "Histograms are a way of presenting a list of numbers.  They divide the range of values into bins, and then indicate how many of the numbers lie in each bin.  The `plt.hist()` method figures out the range and the bins and does the counting for us.  We'll do this on an axis so that we have access to titles and other fun stuff."
      ]
    },
    {
      "cell_type": "code",
      "metadata": {
        "id": "jmWb-pm5VQlx",
        "outputId": "cd3c0416-0c5e-4159-ab09-d5ca2d287b0a",
        "colab": {
          "base_uri": "https://localhost:8080/",
          "height": 452
        }
      },
      "source": [
        "# Make an array that contains 100 samples of a normal random variable\n",
        "sample= np.random.normal(size=100)\n",
        "\n",
        "#Define an axis\n",
        "ax=plt.axes()\n",
        "\n",
        "#Plot a histogram on that axis\n",
        "ax.hist(sample, bins=5)\n",
        "\n",
        "#add a title to the axis\n",
        "ax.set_title('A Size 100 Sample of a normal Random Variable')\n",
        "\n",
        "#show the current axis\n",
        "plt.show()"
      ],
      "execution_count": null,
      "outputs": [
        {
          "output_type": "display_data",
          "data": {
            "text/plain": [
              "<Figure size 640x480 with 1 Axes>"
            ],
            "image/png": "[encoded data removed]"
          },
          "metadata": {}
        }
      ]
    },
    {
      "cell_type": "markdown",
      "metadata": {
        "id": "peekXE0z-wDV"
      },
      "source": [
        "`plt.hist()` has made a graphical representation of our sample.  Notice it doesn't need an input and output array.  It takes a single array, and the output is the number of elements in each bin.  \n",
        "\n",
        "This histogram isn't detailed enough to tell us much about the normal random variable, but some quick changes should fix that."
      ]
    },
    {
      "cell_type": "markdown",
      "metadata": {
        "id": "bCUBFTQvWSUF"
      },
      "source": [
        "### Exercise 2\n",
        "\n",
        "* Run this code cell over and over, to confirm that it is generating new random data each time.\n",
        "\n",
        "* Change this code to give a size 1000000 sample.  Does the histograph vary as much when you run it repeatedly?\n",
        "\n",
        "* Experiment with the `bins=` parameter in the `plt.hist` function.  Can you get a more compelling shape with a number different than 5?\n",
        "\n",
        "* Add the keyvalue `edgecolor=black` to `plt.hist()` so you can see the edges of the rectangles.\n",
        "\n",
        "* How does the histogram relate to the density function of a normal random variable when the sample is large and the number of bins is high?\n"
      ]
    },
    {
      "cell_type": "markdown",
      "metadata": {
        "id": "WpKjWEZRM2z_"
      },
      "source": [
        "## The Density Function of the Normal Random Variable\n",
        "\n",
        "The previous exercise had you creating a histogram that looks like a bell curve, the probability density function of a normal random variable.  We will confirm that with a graph.  The PDF of the normal random variable is available in the `scipy` package.  This code will import it."
      ]
    },
    {
      "cell_type": "code",
      "metadata": {
        "id": "TdP_RBWyNBKZ"
      },
      "source": [
        "from scipy.stats import norm"
      ],
      "execution_count": null,
      "outputs": []
    },
    {
      "cell_type": "markdown",
      "metadata": {
        "id": "-yRaWMgnNmBq"
      },
      "source": [
        "We now have access to the method `norm.pdf()`.  It takes three positional arguments\n",
        "* The x value you want to plug into the function\n",
        "* mu, the average of the normal random variable\n",
        "* sigma, the standard deviation of the random variable"
      ]
    },
    {
      "cell_type": "code",
      "metadata": {
        "id": "Cf5IyZT0N9D8",
        "outputId": "c4c2e53b-0e7d-40ed-e978-e7582d40bf9a",
        "colab": {
          "base_uri": "https://localhost:8080/",
          "height": 448
        }
      },
      "source": [
        "x=np.arange(-4,4,0.1)\n",
        "mu=0\n",
        "sigma=1\n",
        "y=norm.pdf(x,mu,sigma)\n",
        "\n",
        "ax=plt.axes()\n",
        "ax.plot(x,y)\n",
        "ax.grid()\n",
        "plt.show"
      ],
      "execution_count": null,
      "outputs": [
        {
          "output_type": "execute_result",
          "data": {
            "text/plain": [
              "<function matplotlib.pyplot.show(close=None, block=None)>"
            ]
          },
          "metadata": {},
          "execution_count": 4
        },
        {
          "output_type": "display_data",
          "data": {
            "text/plain": [
              "<Figure size 640x480 with 1 Axes>"
            ],
            "image/png": "[encoded data removed]"
          },
          "metadata": {}
        }
      ]
    },
    {
      "cell_type": "markdown",
      "metadata": {
        "id": "4hglAvUhQ2xe"
      },
      "source": [
        "We could put our histogram and pdf on the same axes, but we shouldn't expect their heights to match.  Their heights are in different units (# of observations per bin vs density of probability per x).  However, we can get around this by mutiplying our pdf by a constant."
      ]
    },
    {
      "cell_type": "markdown",
      "metadata": {
        "id": "yb0yLj3iRUbT"
      },
      "source": [
        "### Exercise 3\n",
        "In a code cell below, produce a graph containing of a histogram and its matching pdf:\n",
        "* Save a sample of size 10000 from a normal random variable with $\\mu=2$ and $\\sigma=3.2$ to the variable `sample`.\n",
        "* To the variable `x`, save an array of appropriately chosen x-values\n",
        "* Apply the `normal.pdf()` function to `x`, with appropriate arguments and save it as `y`\n",
        "* Define an axis using `plt.axes()` and plot both a histogram of `samples` and the curve `x,y` on this axis.  Add a grid if you want.\n",
        "* Show your graph.  Does the height of your pdf match the height of your histogram?  No.  Should this bother you? No.  Multiply `y` by an appropriate constant to adjust its height and rerun the cell.  Use trial and error until you get soemthing you're happy with."
      ]
    },
    {
      "cell_type": "markdown",
      "metadata": {
        "id": "UcLYwk_yXihK"
      },
      "source": [
        "## Averages of a Sample\n",
        "\n",
        "Suppose we sample our variable and take the average.  This average is itself a random variable.  We'll be exploring how this random variable behaves.\n",
        "\n",
        "With say 10000 samples, the average of the sample should be very close to the average value of our normal random variable, but it's unlikely to be exactly 0."
      ]
    },
    {
      "cell_type": "markdown",
      "metadata": {
        "id": "VkPxEB5ZA4Mo"
      },
      "source": [
        "### Exercise 4\n",
        "In a code cell\n",
        "* Assign an array of 10000 samples of a normal random variable to the variable `sample`.\n",
        "* Use `np.average()` to output the average of `sample`.\n",
        "* Run it a few times.  Notice that your average stays very close to 0."
      ]
    },
    {
      "cell_type": "markdown",
      "metadata": {
        "id": "cVaiL3hLBlXa"
      },
      "source": [
        "Congratulations!  You have created your own random variable.  You can run that code block again and again to sample it over and over.  The `np.random.normal()` method was convenient, because the size keyvalue let is generate a sample of any size we wanted.  The code cell above only computed one average for us.\n",
        "\n",
        "Let's write a function that does this with our new variable.  This will be our first function with a key value.  The syntax is\n",
        "> `key=default value`\n",
        "\n",
        "placed in the arguments of the `def` statement.  We'll use two.  The number of samples to average, and the size of the array of averages we wish to create."
      ]
    },
    {
      "cell_type": "code",
      "metadata": {
        "id": "-CeimhCuSOcR"
      },
      "source": [
        "def sampleaverage(samples=1,averages=1): #samples=number of normal RV to average, averages=number of averages to return\n",
        "  averagesarray=np.array([]) # make an empty array\n",
        "  sample=np.random.normal(size=samples) # take a sample of size samples\n",
        "  for i in range(averages): # notice i is a dummy variable\n",
        "    x=np.average(sample) #average the elements of sample\n",
        "    averagesarray=np.append(averagesarray,x) #append the average x to averagesarray and save it back to averagesarray\n",
        "  return averagesarray\n"
      ],
      "execution_count": null,
      "outputs": []
    },
    {
      "cell_type": "code",
      "metadata": {
        "id": "MrfsEC7YYxgV"
      },
      "source": [
        "sampleaverage(samples=10, averages=15)"
      ],
      "execution_count": null,
      "outputs": []
    },
    {
      "cell_type": "markdown",
      "metadata": {
        "id": "sIjDPy5ZD8Ij"
      },
      "source": [
        "### Exercise 5\n",
        "\n",
        "* Execute this function for 100 samples in each average, creating an array of size 10.  What do you notice?\n",
        "* Obviously this isn't working.  One of the instructions is misplaced.  Explain why and fix it."
      ]
    }
  ]
}