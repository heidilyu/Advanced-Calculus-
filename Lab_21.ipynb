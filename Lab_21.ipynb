{
  "nbformat": 4,
  "nbformat_minor": 0,
  "metadata": {
    "colab": {
      "provenance": [],
      "include_colab_link": true
    },
    "kernelspec": {
      "name": "python3",
      "display_name": "Python 3"
    }
  },
  "cells": [
    {
      "cell_type": "markdown",
      "metadata": {
        "id": "view-in-github",
        "colab_type": "text"
      },
      "source": [
        "<a href=\"https://colab.research.google.com/github/heidilyu/Advanced-Calculus-/blob/main/Lab_21.ipynb\" target=\"_parent\"><img src=\"https://colab.research.google.com/assets/colab-badge.svg\" alt=\"Open In Colab\"/></a>"
      ]
    },
    {
      "cell_type": "markdown",
      "metadata": {
        "id": "H9uexyJcv5Ym"
      },
      "source": [
        "# Lab 2.1\n",
        "\n",
        "Goals:\n",
        "* Use arrays to compute approximations of integrals.\n",
        "* Use graphs and formulas to bound the error of these approximations.\n",
        "* Understand how the actual error is related to the error bound, and how the shape of the function affects that relationship.\n",
        "* Use flow-control and the rectangle method to visualize integral approximations."
      ]
    },
    {
      "cell_type": "markdown",
      "metadata": {
        "id": "RUD-70U3GRpT"
      },
      "source": [
        "### Instructions\n",
        "* With your group, work through each of the questions below.  Most questions include some discussion and some bullet-pointed instructions.  Make sure you carry out the bullet-pointed instructions, because that it what is graded.  \n",
        "* You are expected to collaborate with your group.  You should arrive at the answers to these questions together.  However, your submitted answers should be expressed in your own words.\n",
        "* If you need to pause, you can save and come back to your work later.  \n",
        "* When you are done, select \"download .ipynb\" from the file menu.  Save the ipynb to your computer, then upload it to the Lab assignment in gradescope.\n"
      ]
    },
    {
      "cell_type": "markdown",
      "metadata": {
        "id": "9g3kL9HcwgDU"
      },
      "source": [
        "We will begin by importing the libraries we use for graphing."
      ]
    },
    {
      "cell_type": "code",
      "metadata": {
        "id": "F8wEIdO3wfws"
      },
      "source": [
        "import matplotlib.pyplot as plt\n",
        "import matplotlib.patches as patches\n",
        "import numpy as np"
      ],
      "execution_count": 2,
      "outputs": []
    },
    {
      "cell_type": "markdown",
      "metadata": {
        "id": "qNOhsOpmxLyH"
      },
      "source": [
        "Define five algebraic functions by running this cell.  Each person in your group should pick a different one of these functions.  For the rest of the lab, $f(x)$ refers to the function you picked."
      ]
    },
    {
      "cell_type": "code",
      "metadata": {
        "id": "X1tu6QZFv2Hz"
      },
      "source": [
        "def f1(x):\n",
        "  return x**3 - 6*x**2 + 14*x - 6\n",
        "  # actual integral: 108.75\n",
        "\n",
        "def f2(x):\n",
        "  return -x**3 + 6*x**2 - 4*x + 20\n",
        "  # actual integral: 136.25\n",
        "\n",
        "def f3(x):\n",
        "  return -2*x**3 + 24*x**2 - 80*x + 100\n",
        "  # actual integral: 172.5\n",
        "\n",
        "def f4(x):\n",
        "  return x**4 - 16*x**3 + 96*x**2 - 264*x +300\n",
        "  # actual integral: 135\n",
        "\n",
        "def f5(x):\n",
        "  return -x**3 + 12*x**2 - 57*x + 130\n",
        "  # actual integral: 188.75"
      ],
      "execution_count": 3,
      "outputs": []
    },
    {
      "cell_type": "markdown",
      "source": [
        "Hao chosee f5\n",
        "\n",
        "---\n"
      ],
      "metadata": {
        "id": "GgAsHZcKNzpL"
      }
    },
    {
      "cell_type": "markdown",
      "metadata": {
        "id": "Kr5nenYR0eJT"
      },
      "source": [
        "We'll be computing left-hand approximations of $\\int_1^6 f(x)~dx$ (where $f$ is your function)."
      ]
    },
    {
      "cell_type": "markdown",
      "metadata": {
        "id": "j-clb4YF0Z0S"
      },
      "source": [
        "### Q1\n",
        "\n",
        "* Copy your left-hand approximation code from Exercise 2 of the pre-lab.  \n",
        "* Modify it to use your function, instead of `f()` (or you can redefine `f()` to be your function),\n",
        "* Run your code to produce the $L_{10}$ approximation of the integral of your function from 1 to 6.\n"
      ]
    },
    {
      "cell_type": "code",
      "source": [
        "n = 10\n",
        "a = 1\n",
        "b = 6\n",
        "\n",
        "deltax = (b-a)/n\n",
        "\n",
        "x = np.arange(a, b, deltax)\n",
        "\n",
        "\n",
        "def f(x):\n",
        "  return -x**3 + 12*x**2 - 57*x + 130\n",
        "\n",
        "left = f(x) * deltax\n",
        "\n",
        "print(np.sum(left))\n"
      ],
      "metadata": {
        "id": "_jo-jDQ6PJNV",
        "outputId": "e2309143-047c-4a36-cb50-074eeac1f0c0",
        "colab": {
          "base_uri": "https://localhost:8080/"
        }
      },
      "execution_count": 17,
      "outputs": [
        {
          "output_type": "stream",
          "name": "stdout",
          "text": [
            "209.0625\n"
          ]
        }
      ]
    },
    {
      "cell_type": "markdown",
      "metadata": {
        "id": "y0Jr9_sx12rS"
      },
      "source": [
        "### Q2\n",
        "\n",
        "\n",
        "* Define a function `df(x)` which returns the derivative $f'(x)$ at `x`.\n",
        "* Graph $f(x)$ and $f'(x)$."
      ]
    },
    {
      "cell_type": "code",
      "source": [
        "\n",
        "def df(x):\n",
        "  return -3*x**2 + 24*x - 57\n",
        "\n",
        "x_vals = np.linspace(1, 100, 100)\n",
        "y_vals = f(x_vals)\n",
        "dy_vals = df(x_vals)\n",
        "\n",
        "plt.plot(x_vals, y_vals, label='f(x)')\n",
        "plt.plot(x_vals, dy_vals, label='f\\'(x)')\n",
        "plt.legend()\n",
        "plt.show()"
      ],
      "metadata": {
        "id": "H_L9o2CkQwwz",
        "outputId": "2a755e8f-d583-40be-833c-ae760eab6bd3",
        "colab": {
          "base_uri": "https://localhost:8080/",
          "height": 430
        }
      },
      "execution_count": 18,
      "outputs": [
        {
          "output_type": "display_data",
          "data": {
            "text/plain": [
              "<Figure size 640x480 with 1 Axes>"
            ],
            "image/png": "[encoded data removed]"
          },
          "metadata": {}
        }
      ]
    },
    {
      "cell_type": "markdown",
      "metadata": {
        "id": "_RNm8ojL2hdN"
      },
      "source": [
        "### Q3\n",
        "\n",
        "* Look at your graph in Q2.  What bound $S$ can you put on $|f'(x)|$ over the interval $[1,6]$.\n",
        "* Use $S$ to compute the theoretical error bound of the $L_{10}$ approximation. Look up the formula if you need it.  Since it's good practice, input the arithmetic for this formula into a code cell and compute it there."
      ]
    },
    {
      "cell_type": "code",
      "source": [
        "S = np.max(np.abs(dy_vals))\n",
        "print(\"S=\", S)\n",
        "\n",
        "error_bound = S * (b-a)**2/(2*n)\n",
        "print(\"Error bound:\", error_bound)\n",
        "\n"
      ],
      "metadata": {
        "id": "QMy3wpg0Rdhc",
        "outputId": "72386d46-ab95-43f3-8a9d-2a1329f904d5",
        "colab": {
          "base_uri": "https://localhost:8080/"
        }
      },
      "execution_count": 19,
      "outputs": [
        {
          "output_type": "stream",
          "name": "stdout",
          "text": [
            "S= 27657.0\n",
            "Error bound: 34571.25\n"
          ]
        }
      ]
    },
    {
      "cell_type": "markdown",
      "metadata": {
        "id": "c9ytTejn32gC"
      },
      "source": [
        "### Q4\n",
        "\n",
        "How does the error bound relate to the actual error?  \n",
        "* Compute $L_{100}$ and $L_{1000}$ approximations of $\\int_1^6 f(x)~dx$.  You can reuse your work from Q1.\n",
        "* The actual value of $\\int_1^6 f(x)~dx$ is in a comment in the code cell that defined the five functions.  Compute the actual error of your $L_{10}$, $L_{100}$ and $L_{1000}$ approximations.\n",
        "* Compute the theoretical error bound of each approximation.\n",
        "* What percentage of the theoretical error bound is each actual error?\n",
        "* How does the number of rectangles appear to affect the percentages you computed?  Compare your data to your group-mates and make a general observation, containing specific references to their data.\n"
      ]
    },
    {
      "cell_type": "code",
      "source": [
        "# compute L100\n",
        "\n",
        "n = 100\n",
        "a = 1\n",
        "b = 6\n",
        "actual = 188.75\n",
        "x_vals = np.linspace(1, 6, 100)\n",
        "\n",
        "def f(x):\n",
        "  return -x**3 + 12*x**2 - 57*x + 130\n",
        "  # actual integral: 188.75\n",
        "\n",
        "def df(x):\n",
        "  return -3*x**2 + 24*x - 57\n",
        "\n",
        "def formula(n, a, b, actual, x_vals):\n",
        "  deltax = (b-a)/n\n",
        "  x = np.arange(a, b, deltax)\n",
        "  approx = np.sum(f(x) * deltax)\n",
        "\n",
        "  S = np.max(np.abs(df(x_vals)))\n",
        "  error_bound = S * (b-a)**2/(2*n)\n",
        "\n",
        "  actual_error = abs(approx - actual)\n",
        "\n",
        "  percent_bound = (actual_error/error_bound) * 100\n",
        "\n",
        "  return approx, error_bound, actual_error, percent_bound\n",
        "\n",
        "\n",
        "for n in [10, 100, 1000]:\n",
        "  approx, error_bound, actual_error, percent_bound = formula(n, a, b, actual, x_vals)\n",
        "  print('L = ', approx)\n",
        "  print('Error bound = ', error_bound)\n",
        "  print('Actual error = ', actual_error)\n",
        "  print('Percent bound = ', percent_bound)\n"
      ],
      "metadata": {
        "id": "WWHtogvTSzk8",
        "outputId": "a6a18db0-c01b-467c-8b6b-9a1703a87c41",
        "colab": {
          "base_uri": "https://localhost:8080/"
        }
      },
      "execution_count": 30,
      "outputs": [
        {
          "output_type": "stream",
          "name": "stdout",
          "text": [
            "L =  209.0625\n",
            "Error bound =  45.0\n",
            "Actual error =  20.3125\n",
            "Percent bound =  45.13888888888889\n",
            "L =  190.75312499999987\n",
            "Error bound =  4.5\n",
            "Actual error =  2.0031249999998693\n",
            "Percent bound =  44.51388888888598\n",
            "L =  188.95003125000358\n",
            "Error bound =  0.45\n",
            "Actual error =  0.20003125000357613\n",
            "Percent bound =  44.451388889683585\n"
          ]
        }
      ]
    },
    {
      "cell_type": "markdown",
      "metadata": {
        "id": "JOSltMrY5qpF"
      },
      "source": [
        "### Q5\n",
        "\n",
        "Some functions have an actual error $E_L$ that is a relatively large percentage of the theoretical bound.  Others have $E_L$ that is much smaller than the theoretical bound.  This is our main question:  \n",
        "\n",
        "> What properties of a function make the actual error $E_L$ a larger or smaller percentage of the theoretical error bound?\n",
        "\n",
        "* In a text cell, compare your percentages to that of your groupmates, specifically referencing their data.  \n",
        "* Come up with a conjecture about what properties of your graphs cause the actual error to be a larger or smaller percentage of the theoretical error bound.  \n",
        "* For full credit, give a plausible mathematical reason why your conjecture might be true.\n",
        "\n",
        "\n",
        "\n",
        "\n"
      ]
    },
    {
      "cell_type": "code",
      "source": [
        "f'(x)' large\n",
        "\n",
        "how bad the theoretical error is\n",
        "how bad the estimate of the first derivative is\n",
        "\n",
        "how the first derivative changes\n",
        "the value of the second derivative\n",
        "\n"
      ],
      "metadata": {
        "id": "4cts-YlEaGbX"
      },
      "execution_count": null,
      "outputs": []
    },
    {
      "cell_type": "markdown",
      "metadata": {
        "id": "rOaW5mcMXLDN"
      },
      "source": [
        "### Q6\n",
        "\n",
        "* Copy your code to display the rectangles of the $L_{10}$ approximation of $$\\int_1^6 x^2~dx$$ from Exercise 7 of the pre-lab into a code cell below.\n",
        "* Modify as necessary to use your function instead.\n",
        "* Run the code to show a plot of your function and the 10 rectangles of the approximation."
      ]
    }
  ]
}